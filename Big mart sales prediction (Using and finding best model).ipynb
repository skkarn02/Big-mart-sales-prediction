{
 "cells": [
  {
   "cell_type": "markdown",
   "metadata": {},
   "source": [
    "# Importing training set and important libraries"
   ]
  },
  {
   "cell_type": "code",
   "execution_count": 84,
   "metadata": {},
   "outputs": [],
   "source": [
    "%matplotlib inline\n",
    "import pandas as pd\n",
    "import numpy as np\n",
    "import matplotlib.pyplot as plt\n",
    "\n",
    "bm=pd.read_csv('datasets/Train_UWu5bXk.csv')"
   ]
  },
  {
   "cell_type": "markdown",
   "metadata": {},
   "source": [
    "# Statistical EDA "
   ]
  },
  {
   "cell_type": "code",
   "execution_count": 85,
   "metadata": {},
   "outputs": [
    {
     "name": "stdout",
     "output_type": "stream",
     "text": [
      "  Item_Identifier  Item_Weight Item_Fat_Content  Item_Visibility  \\\n",
      "0           FDA15        9.300          Low Fat         0.016047   \n",
      "1           DRC01        5.920          Regular         0.019278   \n",
      "2           FDN15       17.500          Low Fat         0.016760   \n",
      "3           FDX07       19.200          Regular         0.000000   \n",
      "4           NCD19        8.930          Low Fat         0.000000   \n",
      "5           FDP36       10.395          Regular         0.000000   \n",
      "6           FDO10       13.650          Regular         0.012741   \n",
      "7           FDP10          NaN          Low Fat         0.127470   \n",
      "8           FDH17       16.200          Regular         0.016687   \n",
      "9           FDU28       19.200          Regular         0.094450   \n",
      "\n",
      "               Item_Type  Item_MRP Outlet_Identifier  \\\n",
      "0                  Dairy  249.8092            OUT049   \n",
      "1            Soft Drinks   48.2692            OUT018   \n",
      "2                   Meat  141.6180            OUT049   \n",
      "3  Fruits and Vegetables  182.0950            OUT010   \n",
      "4              Household   53.8614            OUT013   \n",
      "5           Baking Goods   51.4008            OUT018   \n",
      "6            Snack Foods   57.6588            OUT013   \n",
      "7            Snack Foods  107.7622            OUT027   \n",
      "8           Frozen Foods   96.9726            OUT045   \n",
      "9           Frozen Foods  187.8214            OUT017   \n",
      "\n",
      "   Outlet_Establishment_Year Outlet_Size Outlet_Location_Type  \\\n",
      "0                       1999      Medium               Tier 1   \n",
      "1                       2009      Medium               Tier 3   \n",
      "2                       1999      Medium               Tier 1   \n",
      "3                       1998         NaN               Tier 3   \n",
      "4                       1987        High               Tier 3   \n",
      "5                       2009      Medium               Tier 3   \n",
      "6                       1987        High               Tier 3   \n",
      "7                       1985      Medium               Tier 3   \n",
      "8                       2002         NaN               Tier 2   \n",
      "9                       2007         NaN               Tier 2   \n",
      "\n",
      "         Outlet_Type  Item_Outlet_Sales  \n",
      "0  Supermarket Type1          3735.1380  \n",
      "1  Supermarket Type2           443.4228  \n",
      "2  Supermarket Type1          2097.2700  \n",
      "3      Grocery Store           732.3800  \n",
      "4  Supermarket Type1           994.7052  \n",
      "5  Supermarket Type2           556.6088  \n",
      "6  Supermarket Type1           343.5528  \n",
      "7  Supermarket Type3          4022.7636  \n",
      "8  Supermarket Type1          1076.5986  \n",
      "9  Supermarket Type1          4710.5350  \n"
     ]
    }
   ],
   "source": [
    "print(bm.head(10))"
   ]
  },
  {
   "cell_type": "code",
   "execution_count": 86,
   "metadata": {},
   "outputs": [
    {
     "name": "stdout",
     "output_type": "stream",
     "text": [
      "(8523, 12)\n"
     ]
    }
   ],
   "source": [
    "print(bm.shape)"
   ]
  },
  {
   "cell_type": "code",
   "execution_count": 87,
   "metadata": {},
   "outputs": [
    {
     "name": "stdout",
     "output_type": "stream",
     "text": [
      "       Item_Weight  Item_Visibility     Item_MRP  Outlet_Establishment_Year  \\\n",
      "count  7060.000000      8523.000000  8523.000000                8523.000000   \n",
      "mean     12.857645         0.066132   140.992782                1997.831867   \n",
      "std       4.643456         0.051598    62.275067                   8.371760   \n",
      "min       4.555000         0.000000    31.290000                1985.000000   \n",
      "25%       8.773750         0.026989    93.826500                1987.000000   \n",
      "50%      12.600000         0.053931   143.012800                1999.000000   \n",
      "75%      16.850000         0.094585   185.643700                2004.000000   \n",
      "max      21.350000         0.328391   266.888400                2009.000000   \n",
      "\n",
      "       Item_Outlet_Sales  \n",
      "count        8523.000000  \n",
      "mean         2181.288914  \n",
      "std          1706.499616  \n",
      "min            33.290000  \n",
      "25%           834.247400  \n",
      "50%          1794.331000  \n",
      "75%          3101.296400  \n",
      "max         13086.964800  \n"
     ]
    }
   ],
   "source": [
    "print(bm.describe())"
   ]
  },
  {
   "cell_type": "code",
   "execution_count": 88,
   "metadata": {},
   "outputs": [
    {
     "name": "stdout",
     "output_type": "stream",
     "text": [
      "<class 'pandas.core.frame.DataFrame'>\n",
      "RangeIndex: 8523 entries, 0 to 8522\n",
      "Data columns (total 12 columns):\n",
      "Item_Identifier              8523 non-null object\n",
      "Item_Weight                  7060 non-null float64\n",
      "Item_Fat_Content             8523 non-null object\n",
      "Item_Visibility              8523 non-null float64\n",
      "Item_Type                    8523 non-null object\n",
      "Item_MRP                     8523 non-null float64\n",
      "Outlet_Identifier            8523 non-null object\n",
      "Outlet_Establishment_Year    8523 non-null int64\n",
      "Outlet_Size                  6113 non-null object\n",
      "Outlet_Location_Type         8523 non-null object\n",
      "Outlet_Type                  8523 non-null object\n",
      "Item_Outlet_Sales            8523 non-null float64\n",
      "dtypes: float64(4), int64(1), object(7)\n",
      "memory usage: 799.1+ KB\n",
      "None\n"
     ]
    }
   ],
   "source": [
    "print(bm.info())"
   ]
  },
  {
   "cell_type": "markdown",
   "metadata": {},
   "source": [
    "From statistical eda we find that there are 8523 rows and 12 columns. And some of the colums have some missing values present there.And also minimum of Item_visibility is zero which is not possible if item is inn sale it will have some visibility so we will replace 0 by mean of all entries"
   ]
  },
  {
   "cell_type": "markdown",
   "metadata": {},
   "source": [
    "# Graphical EDA"
   ]
  },
  {
   "cell_type": "code",
   "execution_count": 89,
   "metadata": {},
   "outputs": [
    {
     "data": {
      "text/plain": [
       "<matplotlib.axes._subplots.AxesSubplot at 0x206697908>"
      ]
     },
     "execution_count": 89,
     "metadata": {},
     "output_type": "execute_result"
    },
    {
     "data": {
      "image/png": "[encoded data removed]",
      "text/plain": [
       "<Figure size 432x288 with 1 Axes>"
      ]
     },
     "metadata": {},
     "output_type": "display_data"
    }
   ],
   "source": [
    "bm.boxplot(by='Item_Fat_Content',column='Item_Outlet_Sales')"
   ]
  },
  {
   "cell_type": "markdown",
   "metadata": {},
   "source": [
    "Here we can see that the mean of different type of Fat Content is almost same . And hence there is no relationship between Fat content and sales."
   ]
  },
  {
   "cell_type": "code",
   "execution_count": 90,
   "metadata": {},
   "outputs": [
    {
     "data": {
      "text/plain": [
       "<matplotlib.axes._subplots.AxesSubplot at 0x207771ef0>"
      ]
     },
     "execution_count": 90,
     "metadata": {},
     "output_type": "execute_result"
    },
    {
     "data": {
      "image/png": "[encoded data removed]",
      "text/plain": [
       "<Figure size 1800x720 with 1 Axes>"
      ]
     },
     "metadata": {},
     "output_type": "display_data"
    }
   ],
   "source": [
    "bm.boxplot(by='Item_Type',column='Item_Outlet_Sales',figsize=(25,10))"
   ]
  },
  {
   "cell_type": "markdown",
   "metadata": {},
   "source": [
    "We can say that sales is not effected by the type of item . However sales of Baking Good,Breakfast,Soft drinks are slightly lower"
   ]
  },
  {
   "cell_type": "code",
   "execution_count": 91,
   "metadata": {},
   "outputs": [
    {
     "data": {
      "text/plain": [
       "<matplotlib.axes._subplots.AxesSubplot at 0x20792aef0>"
      ]
     },
     "execution_count": 91,
     "metadata": {},
     "output_type": "execute_result"
    },
    {
     "data": {
      "image/png": "[encoded data removed]",
      "text/plain": [
       "<Figure size 1800x720 with 1 Axes>"
      ]
     },
     "metadata": {},
     "output_type": "display_data"
    }
   ],
   "source": [
    "bm.boxplot(by='Outlet_Size',column='Item_Outlet_Sales',figsize=(25,10))"
   ]
  },
  {
   "cell_type": "markdown",
   "metadata": {},
   "source": [
    "unexpectedly sales of medium size outlet is slightly higher than high size outlets and some sales in medium size outlet are more than high and small size outlet . They are outliers but we have no evidence that these are bad data points it can be happen."
   ]
  },
  {
   "cell_type": "code",
   "execution_count": 92,
   "metadata": {},
   "outputs": [
    {
     "data": {
      "text/plain": [
       "<matplotlib.axes._subplots.AxesSubplot at 0x208c17358>"
      ]
     },
     "execution_count": 92,
     "metadata": {},
     "output_type": "execute_result"
    },
    {
     "data": {
      "image/png": "[encoded data removed]",
      "text/plain": [
       "<Figure size 1800x720 with 1 Axes>"
      ]
     },
     "metadata": {},
     "output_type": "display_data"
    }
   ],
   "source": [
    "bm.boxplot(by='Outlet_Location_Type',column='Item_Outlet_Sales',figsize=(25,10))"
   ]
  },
  {
   "cell_type": "markdown",
   "metadata": {},
   "source": [
    "From the above given boxplot we can draw conclusion that sales is independent of location of store . "
   ]
  },
  {
   "cell_type": "code",
   "execution_count": 93,
   "metadata": {},
   "outputs": [
    {
     "data": {
      "text/plain": [
       "<matplotlib.axes._subplots.AxesSubplot at 0x20839bc18>"
      ]
     },
     "execution_count": 93,
     "metadata": {},
     "output_type": "execute_result"
    },
    {
     "data": {
      "image/png": "[encoded data removed]",
      "text/plain": [
       "<Figure size 1800x720 with 1 Axes>"
      ]
     },
     "metadata": {},
     "output_type": "display_data"
    }
   ],
   "source": [
    "bm.boxplot(by='Outlet_Type',column='Item_Outlet_Sales',figsize=(25,10))"
   ]
  },
  {
   "cell_type": "markdown",
   "metadata": {},
   "source": [
    "Woooooooooooooooooo we can draw a great conclusion for the outlet type and sales . Grocery store has least sale while supermarket3 has highest sale . Therefore sales  definitely depend on outlet type.."
   ]
  },
  {
   "cell_type": "markdown",
   "metadata": {},
   "source": [
    "# Data Cleaning and Preprocessing data."
   ]
  },
  {
   "cell_type": "markdown",
   "metadata": {},
   "source": [
    "Here we will first seperate feature and target variable in different datsets from the training dataset"
   ]
  },
  {
   "cell_type": "code",
   "execution_count": 94,
   "metadata": {},
   "outputs": [
    {
     "name": "stdout",
     "output_type": "stream",
     "text": [
      "<class 'pandas.core.frame.DataFrame'>\n",
      "RangeIndex: 8523 entries, 0 to 8522\n",
      "Data columns (total 12 columns):\n",
      "Item_Identifier              8523 non-null object\n",
      "Item_Weight                  7060 non-null float64\n",
      "Item_Fat_Content             8523 non-null object\n",
      "Item_Visibility              8523 non-null float64\n",
      "Item_Type                    8523 non-null object\n",
      "Item_MRP                     8523 non-null float64\n",
      "Outlet_Identifier            8523 non-null object\n",
      "Outlet_Establishment_Year    8523 non-null int64\n",
      "Outlet_Size                  6113 non-null object\n",
      "Outlet_Location_Type         8523 non-null object\n",
      "Outlet_Type                  8523 non-null object\n",
      "Item_Outlet_Sales            8523 non-null float64\n",
      "dtypes: float64(4), int64(1), object(7)\n",
      "memory usage: 799.1+ KB\n",
      "None\n"
     ]
    }
   ],
   "source": [
    "print(bm.info())"
   ]
  },
  {
   "cell_type": "markdown",
   "metadata": {},
   "source": [
    "In feature variable dataset we will exclude Item Identfier and outlet identifier as these are jst labels and have no impact on prediction of sales . And target variable will be Item_Outlet_Sales"
   ]
  },
  {
   "cell_type": "code",
   "execution_count": 95,
   "metadata": {},
   "outputs": [],
   "source": [
    "X_TRAIN=bm.drop(['Item_Identifier','Outlet_Identifier','Item_Outlet_Sales'],axis='columns')\n",
    "y=bm[['Item_Outlet_Sales']]\n"
   ]
  },
  {
   "cell_type": "code",
   "execution_count": 96,
   "metadata": {},
   "outputs": [
    {
     "name": "stdout",
     "output_type": "stream",
     "text": [
      "<class 'pandas.core.frame.DataFrame'>\n",
      "RangeIndex: 8523 entries, 0 to 8522\n",
      "Data columns (total 9 columns):\n",
      "Item_Weight                  7060 non-null float64\n",
      "Item_Fat_Content             8523 non-null object\n",
      "Item_Visibility              8523 non-null float64\n",
      "Item_Type                    8523 non-null object\n",
      "Item_MRP                     8523 non-null float64\n",
      "Outlet_Establishment_Year    8523 non-null int64\n",
      "Outlet_Size                  6113 non-null object\n",
      "Outlet_Location_Type         8523 non-null object\n",
      "Outlet_Type                  8523 non-null object\n",
      "dtypes: float64(3), int64(1), object(5)\n",
      "memory usage: 599.4+ KB\n",
      "None\n"
     ]
    }
   ],
   "source": [
    "print(X_TRAIN.info())"
   ]
  },
  {
   "cell_type": "markdown",
   "metadata": {},
   "source": [
    "Here Outlet_Size is categorical and have some missing values so we will fill them with the most frequent entry in that column"
   ]
  },
  {
   "cell_type": "code",
   "execution_count": 97,
   "metadata": {},
   "outputs": [
    {
     "name": "stdout",
     "output_type": "stream",
     "text": [
      "Medium    2793\n",
      "NaN       2410\n",
      "Small     2388\n",
      "High       932\n",
      "Name: Outlet_Size, dtype: int64\n"
     ]
    }
   ],
   "source": [
    "print(X_TRAIN['Outlet_Size'].value_counts(dropna=False))"
   ]
  },
  {
   "cell_type": "code",
   "execution_count": 98,
   "metadata": {},
   "outputs": [],
   "source": [
    "X_TRAIN['Outlet_Size']=X_TRAIN['Outlet_Size'].fillna('Medium')"
   ]
  },
  {
   "cell_type": "code",
   "execution_count": 99,
   "metadata": {},
   "outputs": [
    {
     "name": "stdout",
     "output_type": "stream",
     "text": [
      "Medium    5203\n",
      "Small     2388\n",
      "High       932\n",
      "Name: Outlet_Size, dtype: int64\n"
     ]
    }
   ],
   "source": [
    "print(X_TRAIN['Outlet_Size'].value_counts(dropna=False))"
   ]
  },
  {
   "cell_type": "code",
   "execution_count": 100,
   "metadata": {},
   "outputs": [
    {
     "name": "stdout",
     "output_type": "stream",
     "text": [
      "<class 'pandas.core.frame.DataFrame'>\n",
      "RangeIndex: 8523 entries, 0 to 8522\n",
      "Data columns (total 9 columns):\n",
      "Item_Weight                  7060 non-null float64\n",
      "Item_Fat_Content             8523 non-null object\n",
      "Item_Visibility              8523 non-null float64\n",
      "Item_Type                    8523 non-null object\n",
      "Item_MRP                     8523 non-null float64\n",
      "Outlet_Establishment_Year    8523 non-null int64\n",
      "Outlet_Size                  8523 non-null object\n",
      "Outlet_Location_Type         8523 non-null object\n",
      "Outlet_Type                  8523 non-null object\n",
      "dtypes: float64(3), int64(1), object(5)\n",
      "memory usage: 599.4+ KB\n",
      "None\n"
     ]
    }
   ],
   "source": [
    "print(X_TRAIN.info())"
   ]
  },
  {
   "cell_type": "markdown",
   "metadata": {},
   "source": [
    "Minimum value of Item_Visibility is 0.0000 which is not possible hence we will replace all 0 with mean of it"
   ]
  },
  {
   "cell_type": "code",
   "execution_count": 105,
   "metadata": {},
   "outputs": [
    {
     "name": "stdout",
     "output_type": "stream",
     "text": [
      "0.066132    526\n",
      "0.076975      3\n",
      "0.096592      2\n",
      "0.104784      2\n",
      "0.058919      2\n",
      "0.076792      2\n",
      "0.061425      2\n",
      "0.023466      2\n",
      "0.112399      2\n",
      "0.159721      2\n",
      "0.128296      2\n",
      "0.093308      2\n",
      "0.072411      2\n",
      "0.074931      2\n",
      "0.041355      2\n",
      "0.071833      2\n",
      "0.097457      2\n",
      "0.136286      2\n",
      "0.078759      2\n",
      "0.080625      2\n",
      "0.085622      2\n",
      "0.013952      2\n",
      "0.079806      2\n",
      "0.106539      2\n",
      "0.093914      2\n",
      "0.014048      2\n",
      "0.026895      2\n",
      "0.080969      2\n",
      "0.122016      2\n",
      "0.072285      2\n",
      "           ... \n",
      "0.021240      1\n",
      "0.100641      1\n",
      "0.030921      1\n",
      "0.118859      1\n",
      "0.162572      1\n",
      "0.076745      1\n",
      "0.015461      1\n",
      "0.057655      1\n",
      "0.042113      1\n",
      "0.029565      1\n",
      "0.066447      1\n",
      "0.035954      1\n",
      "0.083222      1\n",
      "0.021413      1\n",
      "0.099024      1\n",
      "0.052811      1\n",
      "0.122735      1\n",
      "0.118080      1\n",
      "0.046654      1\n",
      "0.021469      1\n",
      "0.060134      1\n",
      "0.096658      1\n",
      "0.019064      1\n",
      "0.164197      1\n",
      "0.092576      1\n",
      "0.067544      1\n",
      "0.115168      1\n",
      "0.146896      1\n",
      "0.081119      1\n",
      "0.037218      1\n",
      "Name: Item_Visibility, Length: 7880, dtype: int64\n"
     ]
    }
   ],
   "source": [
    "print(X_TRAIN['Item_Visibility'].value_counts())"
   ]
  },
  {
   "cell_type": "code",
   "execution_count": 106,
   "metadata": {},
   "outputs": [],
   "source": [
    "X_TRAIN['Item_Visibility']=X_TRAIN['Item_Visibility'].replace(0.000000,np.mean(X_TRAIN['Item_Visibility']))"
   ]
  },
  {
   "cell_type": "code",
   "execution_count": 107,
   "metadata": {},
   "outputs": [
    {
     "name": "stdout",
     "output_type": "stream",
     "text": [
      "0.066132    526\n",
      "0.076975      3\n",
      "0.096592      2\n",
      "0.104784      2\n",
      "0.058919      2\n",
      "0.076792      2\n",
      "0.061425      2\n",
      "0.023466      2\n",
      "0.112399      2\n",
      "0.159721      2\n",
      "0.128296      2\n",
      "0.093308      2\n",
      "0.072411      2\n",
      "0.074931      2\n",
      "0.041355      2\n",
      "0.071833      2\n",
      "0.097457      2\n",
      "0.136286      2\n",
      "0.078759      2\n",
      "0.080625      2\n",
      "0.085622      2\n",
      "0.013952      2\n",
      "0.079806      2\n",
      "0.106539      2\n",
      "0.093914      2\n",
      "0.014048      2\n",
      "0.026895      2\n",
      "0.080969      2\n",
      "0.122016      2\n",
      "0.072285      2\n",
      "           ... \n",
      "0.021240      1\n",
      "0.100641      1\n",
      "0.030921      1\n",
      "0.118859      1\n",
      "0.162572      1\n",
      "0.076745      1\n",
      "0.015461      1\n",
      "0.057655      1\n",
      "0.042113      1\n",
      "0.029565      1\n",
      "0.066447      1\n",
      "0.035954      1\n",
      "0.083222      1\n",
      "0.021413      1\n",
      "0.099024      1\n",
      "0.052811      1\n",
      "0.122735      1\n",
      "0.118080      1\n",
      "0.046654      1\n",
      "0.021469      1\n",
      "0.060134      1\n",
      "0.096658      1\n",
      "0.019064      1\n",
      "0.164197      1\n",
      "0.092576      1\n",
      "0.067544      1\n",
      "0.115168      1\n",
      "0.146896      1\n",
      "0.081119      1\n",
      "0.037218      1\n",
      "Name: Item_Visibility, Length: 7880, dtype: int64\n"
     ]
    }
   ],
   "source": [
    "print(X_TRAIN['Item_Visibility'].value_counts())"
   ]
  },
  {
   "cell_type": "code",
   "execution_count": 109,
   "metadata": {},
   "outputs": [
    {
     "name": "stdout",
     "output_type": "stream",
     "text": [
      "<class 'pandas.core.frame.DataFrame'>\n",
      "RangeIndex: 8523 entries, 0 to 8522\n",
      "Data columns (total 9 columns):\n",
      "Item_Weight                  7060 non-null float64\n",
      "Item_Fat_Content             8523 non-null object\n",
      "Item_Visibility              8523 non-null float64\n",
      "Item_Type                    8523 non-null object\n",
      "Item_MRP                     8523 non-null float64\n",
      "Outlet_Establishment_Year    8523 non-null int64\n",
      "Outlet_Size                  8523 non-null object\n",
      "Outlet_Location_Type         8523 non-null object\n",
      "Outlet_Type                  8523 non-null object\n",
      "dtypes: float64(3), int64(1), object(5)\n",
      "memory usage: 599.4+ KB\n",
      "None\n"
     ]
    }
   ],
   "source": [
    "print(X_TRAIN.info())"
   ]
  },
  {
   "cell_type": "markdown",
   "metadata": {},
   "source": [
    "Now we have one column left with some missing values which should be filled as some ML model not accept missing values"
   ]
  },
  {
   "cell_type": "code",
   "execution_count": 113,
   "metadata": {},
   "outputs": [
    {
     "name": "stdout",
     "output_type": "stream",
     "text": [
      "NaN        1463\n",
      " 12.150      86\n",
      " 17.600      82\n",
      " 13.650      77\n",
      " 11.800      76\n",
      " 15.100      68\n",
      " 9.300       68\n",
      " 16.700      66\n",
      " 10.500      66\n",
      " 19.350      63\n",
      " 20.700      62\n",
      " 16.000      62\n",
      " 9.800       61\n",
      " 17.700      60\n",
      " 17.750      60\n",
      " 18.850      59\n",
      " 15.850      59\n",
      " 15.000      59\n",
      " 19.600      58\n",
      " 16.750      58\n",
      " 18.250      58\n",
      " 15.700      57\n",
      " 12.500      56\n",
      " 9.195       56\n",
      " 20.200      53\n",
      " 10.195      53\n",
      " 12.600      53\n",
      " 12.100      53\n",
      " 15.600      52\n",
      " 13.500      51\n",
      "           ... \n",
      " 7.260        3\n",
      " 5.425        3\n",
      " 5.845        3\n",
      " 6.905        3\n",
      " 7.565        3\n",
      " 5.825        3\n",
      " 5.305        3\n",
      " 8.920        2\n",
      " 7.890        2\n",
      " 7.275        2\n",
      " 4.905        2\n",
      " 5.210        2\n",
      " 6.400        2\n",
      " 8.485        2\n",
      " 6.775        2\n",
      " 5.155        2\n",
      " 7.605        2\n",
      " 5.735        2\n",
      " 6.325        2\n",
      " 6.895        2\n",
      " 7.560        2\n",
      " 8.670        2\n",
      " 6.405        2\n",
      " 8.800        2\n",
      " 5.885        2\n",
      " 5.675        2\n",
      " 9.420        1\n",
      " 6.520        1\n",
      " 7.685        1\n",
      " 5.400        1\n",
      "Name: Item_Weight, Length: 416, dtype: int64\n"
     ]
    }
   ],
   "source": [
    "print(X_TRAIN['Item_Weight'].value_counts(dropna=False))"
   ]
  },
  {
   "cell_type": "code",
   "execution_count": 118,
   "metadata": {},
   "outputs": [],
   "source": [
    "X_TRAIN['Item_Weight']=X_TRAIN['Item_Weight'].replace(np.NaN,np.mean(X_TRAIN['Item_Weight']))"
   ]
  },
  {
   "cell_type": "code",
   "execution_count": 120,
   "metadata": {},
   "outputs": [
    {
     "name": "stdout",
     "output_type": "stream",
     "text": [
      "<class 'pandas.core.frame.DataFrame'>\n",
      "RangeIndex: 8523 entries, 0 to 8522\n",
      "Data columns (total 9 columns):\n",
      "Item_Weight                  8523 non-null float64\n",
      "Item_Fat_Content             8523 non-null object\n",
      "Item_Visibility              8523 non-null float64\n",
      "Item_Type                    8523 non-null object\n",
      "Item_MRP                     8523 non-null float64\n",
      "Outlet_Establishment_Year    8523 non-null int64\n",
      "Outlet_Size                  8523 non-null object\n",
      "Outlet_Location_Type         8523 non-null object\n",
      "Outlet_Type                  8523 non-null object\n",
      "dtypes: float64(3), int64(1), object(5)\n",
      "memory usage: 599.4+ KB\n",
      "None\n"
     ]
    }
   ],
   "source": [
    "print(X_TRAIN.info())"
   ]
  },
  {
   "cell_type": "markdown",
   "metadata": {},
   "source": [
    "There are some categorical columns which should be converted in numerical column using dummy variable"
   ]
  },
  {
   "cell_type": "code",
   "execution_count": 121,
   "metadata": {},
   "outputs": [],
   "source": [
    "X_TRAIN=pd.get_dummies(X_TRAIN,drop_first=True)"
   ]
  },
  {
   "cell_type": "code",
   "execution_count": 122,
   "metadata": {},
   "outputs": [
    {
     "name": "stdout",
     "output_type": "stream",
     "text": [
      "   Item_Weight  Item_Visibility  Item_MRP  Outlet_Establishment_Year  \\\n",
      "0         9.30         0.016047  249.8092                       1999   \n",
      "1         5.92         0.019278   48.2692                       2009   \n",
      "2        17.50         0.016760  141.6180                       1999   \n",
      "3        19.20         0.066132  182.0950                       1998   \n",
      "4         8.93         0.066132   53.8614                       1987   \n",
      "\n",
      "   Item_Fat_Content_Low Fat  Item_Fat_Content_Regular  \\\n",
      "0                         1                         0   \n",
      "1                         0                         1   \n",
      "2                         1                         0   \n",
      "3                         0                         1   \n",
      "4                         1                         0   \n",
      "\n",
      "   Item_Fat_Content_low fat  Item_Fat_Content_reg  Item_Type_Breads  \\\n",
      "0                         0                     0                 0   \n",
      "1                         0                     0                 0   \n",
      "2                         0                     0                 0   \n",
      "3                         0                     0                 0   \n",
      "4                         0                     0                 0   \n",
      "\n",
      "   Item_Type_Breakfast              ...                Item_Type_Snack Foods  \\\n",
      "0                    0              ...                                    0   \n",
      "1                    0              ...                                    0   \n",
      "2                    0              ...                                    0   \n",
      "3                    0              ...                                    0   \n",
      "4                    0              ...                                    0   \n",
      "\n",
      "   Item_Type_Soft Drinks  Item_Type_Starchy Foods  Outlet_Size_Medium  \\\n",
      "0                      0                        0                   1   \n",
      "1                      1                        0                   1   \n",
      "2                      0                        0                   1   \n",
      "3                      0                        0                   1   \n",
      "4                      0                        0                   0   \n",
      "\n",
      "   Outlet_Size_Small  Outlet_Location_Type_Tier 2  \\\n",
      "0                  0                            0   \n",
      "1                  0                            0   \n",
      "2                  0                            0   \n",
      "3                  0                            0   \n",
      "4                  0                            0   \n",
      "\n",
      "   Outlet_Location_Type_Tier 3  Outlet_Type_Supermarket Type1  \\\n",
      "0                            0                              1   \n",
      "1                            1                              0   \n",
      "2                            0                              1   \n",
      "3                            1                              0   \n",
      "4                            1                              1   \n",
      "\n",
      "   Outlet_Type_Supermarket Type2  Outlet_Type_Supermarket Type3  \n",
      "0                              0                              0  \n",
      "1                              1                              0  \n",
      "2                              0                              0  \n",
      "3                              0                              0  \n",
      "4                              0                              0  \n",
      "\n",
      "[5 rows x 30 columns]\n"
     ]
    }
   ],
   "source": [
    "print(X_TRAIN.head())"
   ]
  },
  {
   "cell_type": "code",
   "execution_count": 123,
   "metadata": {},
   "outputs": [
    {
     "name": "stdout",
     "output_type": "stream",
     "text": [
      "<class 'pandas.core.frame.DataFrame'>\n",
      "RangeIndex: 8523 entries, 0 to 8522\n",
      "Data columns (total 30 columns):\n",
      "Item_Weight                        8523 non-null float64\n",
      "Item_Visibility                    8523 non-null float64\n",
      "Item_MRP                           8523 non-null float64\n",
      "Outlet_Establishment_Year          8523 non-null int64\n",
      "Item_Fat_Content_Low Fat           8523 non-null uint8\n",
      "Item_Fat_Content_Regular           8523 non-null uint8\n",
      "Item_Fat_Content_low fat           8523 non-null uint8\n",
      "Item_Fat_Content_reg               8523 non-null uint8\n",
      "Item_Type_Breads                   8523 non-null uint8\n",
      "Item_Type_Breakfast                8523 non-null uint8\n",
      "Item_Type_Canned                   8523 non-null uint8\n",
      "Item_Type_Dairy                    8523 non-null uint8\n",
      "Item_Type_Frozen Foods             8523 non-null uint8\n",
      "Item_Type_Fruits and Vegetables    8523 non-null uint8\n",
      "Item_Type_Hard Drinks              8523 non-null uint8\n",
      "Item_Type_Health and Hygiene       8523 non-null uint8\n",
      "Item_Type_Household                8523 non-null uint8\n",
      "Item_Type_Meat                     8523 non-null uint8\n",
      "Item_Type_Others                   8523 non-null uint8\n",
      "Item_Type_Seafood                  8523 non-null uint8\n",
      "Item_Type_Snack Foods              8523 non-null uint8\n",
      "Item_Type_Soft Drinks              8523 non-null uint8\n",
      "Item_Type_Starchy Foods            8523 non-null uint8\n",
      "Outlet_Size_Medium                 8523 non-null uint8\n",
      "Outlet_Size_Small                  8523 non-null uint8\n",
      "Outlet_Location_Type_Tier 2        8523 non-null uint8\n",
      "Outlet_Location_Type_Tier 3        8523 non-null uint8\n",
      "Outlet_Type_Supermarket Type1      8523 non-null uint8\n",
      "Outlet_Type_Supermarket Type2      8523 non-null uint8\n",
      "Outlet_Type_Supermarket Type3      8523 non-null uint8\n",
      "dtypes: float64(3), int64(1), uint8(26)\n",
      "memory usage: 482.8 KB\n",
      "None\n"
     ]
    }
   ],
   "source": [
    "print(X_TRAIN.info())"
   ]
  },
  {
   "cell_type": "markdown",
   "metadata": {},
   "source": [
    "Wooooooo we preprocessed our training dataset now we have neither missing values nor any categorical variable"
   ]
  },
  {
   "cell_type": "markdown",
   "metadata": {},
   "source": [
    "# LINEAR REGRESSION"
   ]
  },
  {
   "cell_type": "markdown",
   "metadata": {},
   "source": [
    "#  R square value of model"
   ]
  },
  {
   "cell_type": "code",
   "execution_count": 125,
   "metadata": {},
   "outputs": [
    {
     "name": "stdout",
     "output_type": "stream",
     "text": [
      "0.5670504764884454\n",
      "0.5587143286323675\n"
     ]
    }
   ],
   "source": [
    "from sklearn.linear_model import LinearRegression\n",
    "from sklearn.model_selection import train_test_split\n",
    "from sklearn.model_selection import cross_val_score\n",
    "X_train,X_test,y_train,y_test=train_test_split(X_TRAIN,y,test_size=0.25,random_state=42)\n",
    "leg=LinearRegression()\n",
    "leg.fit(X_train,y_train)\n",
    "cross=cross_val_score(leg,X_TRAIN,y,cv=5)\n",
    "print(leg.score(X_test,y_test))\n",
    "print(np.mean(cross))"
   ]
  },
  {
   "cell_type": "markdown",
   "metadata": {},
   "source": [
    "R square value of given model is 56% and  mean of 5 cross-validation R-square value is 55 % which is not good"
   ]
  },
  {
   "cell_type": "markdown",
   "metadata": {},
   "source": [
    "# Predicting on test data"
   ]
  },
  {
   "cell_type": "code",
   "execution_count": 126,
   "metadata": {},
   "outputs": [],
   "source": [
    "X_TS=pd.read_csv('datasets/Test_u94Q5KV.csv')"
   ]
  },
  {
   "cell_type": "code",
   "execution_count": 127,
   "metadata": {},
   "outputs": [
    {
     "name": "stdout",
     "output_type": "stream",
     "text": [
      "<class 'pandas.core.frame.DataFrame'>\n",
      "RangeIndex: 5681 entries, 0 to 5680\n",
      "Data columns (total 11 columns):\n",
      "Item_Identifier              5681 non-null object\n",
      "Item_Weight                  4705 non-null float64\n",
      "Item_Fat_Content             5681 non-null object\n",
      "Item_Visibility              5681 non-null float64\n",
      "Item_Type                    5681 non-null object\n",
      "Item_MRP                     5681 non-null float64\n",
      "Outlet_Identifier            5681 non-null object\n",
      "Outlet_Establishment_Year    5681 non-null int64\n",
      "Outlet_Size                  4075 non-null object\n",
      "Outlet_Location_Type         5681 non-null object\n",
      "Outlet_Type                  5681 non-null object\n",
      "dtypes: float64(3), int64(1), object(7)\n",
      "memory usage: 488.3+ KB\n",
      "None\n"
     ]
    }
   ],
   "source": [
    "print(X_TS.info())"
   ]
  },
  {
   "cell_type": "markdown",
   "metadata": {},
   "source": [
    "As we change the training dataset so that it has no missing value neither categorical features."
   ]
  },
  {
   "cell_type": "code",
   "execution_count": 128,
   "metadata": {},
   "outputs": [],
   "source": [
    "X_TS=X_TS.drop(['Item_Identifier','Outlet_Identifier'],axis='columns')"
   ]
  },
  {
   "cell_type": "code",
   "execution_count": 129,
   "metadata": {
    "scrolled": true
   },
   "outputs": [
    {
     "name": "stdout",
     "output_type": "stream",
     "text": [
      "<class 'pandas.core.frame.DataFrame'>\n",
      "RangeIndex: 5681 entries, 0 to 5680\n",
      "Data columns (total 9 columns):\n",
      "Item_Weight                  4705 non-null float64\n",
      "Item_Fat_Content             5681 non-null object\n",
      "Item_Visibility              5681 non-null float64\n",
      "Item_Type                    5681 non-null object\n",
      "Item_MRP                     5681 non-null float64\n",
      "Outlet_Establishment_Year    5681 non-null int64\n",
      "Outlet_Size                  4075 non-null object\n",
      "Outlet_Location_Type         5681 non-null object\n",
      "Outlet_Type                  5681 non-null object\n",
      "dtypes: float64(3), int64(1), object(5)\n",
      "memory usage: 399.5+ KB\n",
      "None\n"
     ]
    }
   ],
   "source": [
    "print(X_TS.info())"
   ]
  },
  {
   "cell_type": "code",
   "execution_count": 130,
   "metadata": {},
   "outputs": [
    {
     "name": "stdout",
     "output_type": "stream",
     "text": [
      "Medium    1862\n",
      "NaN       1606\n",
      "Small     1592\n",
      "High       621\n",
      "Name: Outlet_Size, dtype: int64\n"
     ]
    }
   ],
   "source": [
    "print(X_TS['Outlet_Size'].value_counts(dropna=False))"
   ]
  },
  {
   "cell_type": "code",
   "execution_count": 131,
   "metadata": {},
   "outputs": [],
   "source": [
    "X_TS['Outlet_Size']=X_TS['Outlet_Size'].fillna('Medium')"
   ]
  },
  {
   "cell_type": "code",
   "execution_count": 132,
   "metadata": {},
   "outputs": [
    {
     "name": "stdout",
     "output_type": "stream",
     "text": [
      "<class 'pandas.core.frame.DataFrame'>\n",
      "RangeIndex: 5681 entries, 0 to 5680\n",
      "Data columns (total 9 columns):\n",
      "Item_Weight                  4705 non-null float64\n",
      "Item_Fat_Content             5681 non-null object\n",
      "Item_Visibility              5681 non-null float64\n",
      "Item_Type                    5681 non-null object\n",
      "Item_MRP                     5681 non-null float64\n",
      "Outlet_Establishment_Year    5681 non-null int64\n",
      "Outlet_Size                  5681 non-null object\n",
      "Outlet_Location_Type         5681 non-null object\n",
      "Outlet_Type                  5681 non-null object\n",
      "dtypes: float64(3), int64(1), object(5)\n",
      "memory usage: 399.5+ KB\n",
      "None\n"
     ]
    }
   ],
   "source": [
    "print(X_TS.info())"
   ]
  },
  {
   "cell_type": "markdown",
   "metadata": {},
   "source": [
    "Now we have one column left with some missing values which should be filled as some ML model not accept missing values . Her we will use imputing"
   ]
  },
  {
   "cell_type": "code",
   "execution_count": 137,
   "metadata": {},
   "outputs": [],
   "source": [
    "X_TS['Item_Weight']=X_TS['Item_Weight'].replace(np.NaN,np.mean(X_TS['Item_Weight']))"
   ]
  },
  {
   "cell_type": "code",
   "execution_count": 138,
   "metadata": {},
   "outputs": [
    {
     "name": "stdout",
     "output_type": "stream",
     "text": [
      "<class 'pandas.core.frame.DataFrame'>\n",
      "RangeIndex: 5681 entries, 0 to 5680\n",
      "Data columns (total 30 columns):\n",
      "Item_Weight                        5681 non-null float64\n",
      "Item_Visibility                    5681 non-null float64\n",
      "Item_MRP                           5681 non-null float64\n",
      "Outlet_Establishment_Year          5681 non-null int64\n",
      "Item_Fat_Content_Low Fat           5681 non-null uint8\n",
      "Item_Fat_Content_Regular           5681 non-null uint8\n",
      "Item_Fat_Content_low fat           5681 non-null uint8\n",
      "Item_Fat_Content_reg               5681 non-null uint8\n",
      "Item_Type_Breads                   5681 non-null uint8\n",
      "Item_Type_Breakfast                5681 non-null uint8\n",
      "Item_Type_Canned                   5681 non-null uint8\n",
      "Item_Type_Dairy                    5681 non-null uint8\n",
      "Item_Type_Frozen Foods             5681 non-null uint8\n",
      "Item_Type_Fruits and Vegetables    5681 non-null uint8\n",
      "Item_Type_Hard Drinks              5681 non-null uint8\n",
      "Item_Type_Health and Hygiene       5681 non-null uint8\n",
      "Item_Type_Household                5681 non-null uint8\n",
      "Item_Type_Meat                     5681 non-null uint8\n",
      "Item_Type_Others                   5681 non-null uint8\n",
      "Item_Type_Seafood                  5681 non-null uint8\n",
      "Item_Type_Snack Foods              5681 non-null uint8\n",
      "Item_Type_Soft Drinks              5681 non-null uint8\n",
      "Item_Type_Starchy Foods            5681 non-null uint8\n",
      "Outlet_Size_Medium                 5681 non-null uint8\n",
      "Outlet_Size_Small                  5681 non-null uint8\n",
      "Outlet_Location_Type_Tier 2        5681 non-null uint8\n",
      "Outlet_Location_Type_Tier 3        5681 non-null uint8\n",
      "Outlet_Type_Supermarket Type1      5681 non-null uint8\n",
      "Outlet_Type_Supermarket Type2      5681 non-null uint8\n",
      "Outlet_Type_Supermarket Type3      5681 non-null uint8\n",
      "dtypes: float64(3), int64(1), uint8(26)\n",
      "memory usage: 321.9 KB\n",
      "None\n"
     ]
    }
   ],
   "source": [
    "print(X_TS.info())"
   ]
  },
  {
   "cell_type": "markdown",
   "metadata": {},
   "source": [
    "We have categorical columns so we will convert them into numerical using dummy variables"
   ]
  },
  {
   "cell_type": "code",
   "execution_count": 136,
   "metadata": {},
   "outputs": [
    {
     "name": "stdout",
     "output_type": "stream",
     "text": [
      "<class 'pandas.core.frame.DataFrame'>\n",
      "RangeIndex: 5681 entries, 0 to 5680\n",
      "Data columns (total 30 columns):\n",
      "Item_Weight                        5681 non-null float64\n",
      "Item_Visibility                    5681 non-null float64\n",
      "Item_MRP                           5681 non-null float64\n",
      "Outlet_Establishment_Year          5681 non-null int64\n",
      "Item_Fat_Content_Low Fat           5681 non-null uint8\n",
      "Item_Fat_Content_Regular           5681 non-null uint8\n",
      "Item_Fat_Content_low fat           5681 non-null uint8\n",
      "Item_Fat_Content_reg               5681 non-null uint8\n",
      "Item_Type_Breads                   5681 non-null uint8\n",
      "Item_Type_Breakfast                5681 non-null uint8\n",
      "Item_Type_Canned                   5681 non-null uint8\n",
      "Item_Type_Dairy                    5681 non-null uint8\n",
      "Item_Type_Frozen Foods             5681 non-null uint8\n",
      "Item_Type_Fruits and Vegetables    5681 non-null uint8\n",
      "Item_Type_Hard Drinks              5681 non-null uint8\n",
      "Item_Type_Health and Hygiene       5681 non-null uint8\n",
      "Item_Type_Household                5681 non-null uint8\n",
      "Item_Type_Meat                     5681 non-null uint8\n",
      "Item_Type_Others                   5681 non-null uint8\n",
      "Item_Type_Seafood                  5681 non-null uint8\n",
      "Item_Type_Snack Foods              5681 non-null uint8\n",
      "Item_Type_Soft Drinks              5681 non-null uint8\n",
      "Item_Type_Starchy Foods            5681 non-null uint8\n",
      "Outlet_Size_Medium                 5681 non-null uint8\n",
      "Outlet_Size_Small                  5681 non-null uint8\n",
      "Outlet_Location_Type_Tier 2        5681 non-null uint8\n",
      "Outlet_Location_Type_Tier 3        5681 non-null uint8\n",
      "Outlet_Type_Supermarket Type1      5681 non-null uint8\n",
      "Outlet_Type_Supermarket Type2      5681 non-null uint8\n",
      "Outlet_Type_Supermarket Type3      5681 non-null uint8\n",
      "dtypes: float64(3), int64(1), uint8(26)\n",
      "memory usage: 321.9 KB\n",
      "None\n"
     ]
    }
   ],
   "source": [
    "X_TS=pd.get_dummies(X_TS,drop_first=True)\n",
    "print(X_TS.info())"
   ]
  },
  {
   "cell_type": "markdown",
   "metadata": {},
   "source": [
    "Now that we have both train and test data ready we can predict the result"
   ]
  },
  {
   "cell_type": "code",
   "execution_count": 139,
   "metadata": {},
   "outputs": [],
   "source": [
    "from sklearn.linear_model import LinearRegression\n",
    "lg=LinearRegression()\n",
    "lg.fit(X_TRAIN,y)\n",
    "y_result=lg.predict(X_TS)"
   ]
  },
  {
   "cell_type": "code",
   "execution_count": 140,
   "metadata": {},
   "outputs": [
    {
     "name": "stdout",
     "output_type": "stream",
     "text": [
      "[[1789.55884303]\n",
      " [1466.03283586]\n",
      " [1883.42802796]\n",
      " ...\n",
      " [1835.24573405]\n",
      " [3625.04225624]\n",
      " [1301.46745852]]\n"
     ]
    }
   ],
   "source": [
    "print(y_result)"
   ]
  },
  {
   "cell_type": "markdown",
   "metadata": {},
   "source": [
    "Woooooooooooo now we have prediction of Item_Outlet_Sales for the given test set but Linear model have very less R Square value so we will think of another model"
   ]
  },
  {
   "cell_type": "markdown",
   "metadata": {},
   "source": [
    "# RIDGE REGRESSION"
   ]
  },
  {
   "cell_type": "markdown",
   "metadata": {},
   "source": [
    "# HYPERPARAMETER TUNING ,R-SQUARE VALUE AND 5 FOLD CV R-Square Value"
   ]
  },
  {
   "cell_type": "code",
   "execution_count": 159,
   "metadata": {},
   "outputs": [
    {
     "name": "stdout",
     "output_type": "stream",
     "text": [
      "0.5670491766843326\n"
     ]
    }
   ],
   "source": [
    "from sklearn.linear_model import Ridge\n",
    "from sklearn.model_selection import GridSearchCV\n",
    "from sklearn.model_selection import cross_val_score\n",
    "param_grid={'alpha':np.linspace(0,1,100)}\n",
    "rdg=Ridge()\n",
    "rdg_cv=GridSearchCV(rdg,param_grid,cv=5)\n",
    "rdg_cv.fit(X_train,y_train)\n",
    "cv=cross_val_score(rdg_cv,X_TRAIN,y,cv=5)\n",
    "print(rdg_cv.best_params_)\n",
    "print(rdg_cv.score(X_test,y_test))\n",
    "print(np.mean(cv))"
   ]
  },
  {
   "cell_type": "markdown",
   "metadata": {},
   "source": [
    "Through hyperparameter modelling we get value of alpha to be 1 , R square value 56% and mean of 5 fold cross validation of R Square around 55% which is also not good ."
   ]
  },
  {
   "cell_type": "code",
   "execution_count": 160,
   "metadata": {},
   "outputs": [
    {
     "name": "stdout",
     "output_type": "stream",
     "text": [
      "[[1787.4127102 ]\n",
      " [1456.63257448]\n",
      " [1893.989618  ]\n",
      " ...\n",
      " [1846.36271598]\n",
      " [3615.25101286]\n",
      " [1312.55013462]]\n"
     ]
    }
   ],
   "source": [
    "rdg_cv.fit(X_TRAIN,y)\n",
    "Y_RESULT=rdg_cv.predict(X_TS)\n",
    "print(Y_RESULT)"
   ]
  },
  {
   "cell_type": "markdown",
   "metadata": {},
   "source": [
    "Both ridge and linear regression have almost same R square value . "
   ]
  },
  {
   "cell_type": "code",
   "execution_count": null,
   "metadata": {},
   "outputs": [],
   "source": []
  }
 ],
 "metadata": {
  "kernelspec": {
   "display_name": "Python 3",
   "language": "python",
   "name": "python3"
  },
  "language_info": {
   "codemirror_mode": {
    "name": "ipython",
    "version": 3
   },
   "file_extension": ".py",
   "mimetype": "text/x-python",
   "name": "python",
   "nbconvert_exporter": "python",
   "pygments_lexer": "ipython3",
   "version": "3.6.5"
  }
 },
 "nbformat": 4,
 "nbformat_minor": 2
}
